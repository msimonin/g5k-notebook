{
 "cells": [
  {
   "cell_type": "markdown",
   "metadata": {},
   "source": [
    "## Getting resources\n",
    "\n",
    "We use [xp5k](https://github.com/pmorillon/xp5k) to manage the interaction with the Grid resources.\n",
    "\n",
    "We create a new ```XP``` and define a new job.\n",
    "\n",
    "Note that ```resources``` are the same as those given in a ```oarsub``` command line."
   ]
  },
  {
   "cell_type": "code",
   "execution_count": null,
   "metadata": {
    "collapsed": false
   },
   "outputs": [],
   "source": [
    "require 'xp5k'\n",
    "myxp = XP5K::XP.new\n",
    "myxp.define_job({\n",
    "    :resources => [\"nodes=3, walltime=1:00:00\"],\n",
    "    :site      => 'lyon',\n",
    "    :types     => [\"allow_classic_ssh\"],\n",
    "    :name      => \"iruby notebook\" ,\n",
    "    :roles     => [XP5K::Role.new({:name => 'mynode', :size => 3})],\n",
    "    :command   => \"sleep 86400\"\n",
    "    })"
   ]
  },
  {
   "cell_type": "markdown",
   "metadata": {},
   "source": [
    "## Submission\n",
    "\n",
    "```submit``` is asynchronous, ```wait_for_jobs``` will wait for all the resources to be ready."
   ]
  },
  {
   "cell_type": "code",
   "execution_count": null,
   "metadata": {
    "collapsed": false,
    "scrolled": false
   },
   "outputs": [],
   "source": [
    "myxp.submit\n",
    "myxp.wait_for_jobs"
   ]
  },
  {
   "cell_type": "markdown",
   "metadata": {},
   "source": [
    "## Run command\n",
    "\n",
    "```xp5k/rake``` include some helpers to run commands on the nodes of your reservation."
   ]
  },
  {
   "cell_type": "code",
   "execution_count": null,
   "metadata": {
    "collapsed": false,
    "scrolled": false
   },
   "outputs": [],
   "source": [
    "require 'xp5k/rake'\n",
    "h = on roles('mynode'), {:user => 'msimonin'} do \n",
    "    cmd = ['uptime -s']\n",
    "end"
   ]
  },
  {
   "cell_type": "markdown",
   "metadata": {},
   "source": [
    "## Draw the bar plot\n",
    "\n",
    "The output of the above command is a map :\n",
    "\n",
    " * each key is a server name \n",
    " * a value is the outputs of the commands run on this server\n",
    " \n",
    "e.g : ``` 'sagittaire-1.lyon.grid5000.fr' => ['out1', ... , 'outn'] ```\n",
    "\n",
    "The following code compute the time since last reboot in minute."
   ]
  },
  {
   "cell_type": "code",
   "execution_count": null,
   "metadata": {
    "collapsed": false,
    "scrolled": false
   },
   "outputs": [],
   "source": [
    "require 'nyaplot'\n",
    "require 'time'\n",
    "\n",
    "\n",
    "now = Time.now.to_i\n",
    "plot = Nyaplot::Plot.new\n",
    "df = Nyaplot::DataFrame.new({\n",
    "    host: h.keys\n",
    "           .map{|x| x.split('.').first},\n",
    "    uptime: h.values\n",
    "             .map{|x| x.chomp}\n",
    "    .map{|x| ((now - Time.parse(x).to_f)/60).round(2)}\n",
    "    })\n",
    "\n",
    "    "
   ]
  },
  {
   "cell_type": "code",
   "execution_count": null,
   "metadata": {
    "collapsed": false
   },
   "outputs": [],
   "source": [
    "plot=Nyaplot::Plot.new\n",
    "plot.add_with_df(df, :bar, :host, :uptime)\n",
    "plot.configure do\n",
    "    x_label('')\n",
    "    y_label('Uptime (min)')\n",
    "    rotate_x_label(-90)\n",
    "end\n"
   ]
  },
  {
   "cell_type": "code",
   "execution_count": null,
   "metadata": {
    "collapsed": false
   },
   "outputs": [],
   "source": [
    "myxp.clean"
   ]
  },
  {
   "cell_type": "code",
   "execution_count": null,
   "metadata": {
    "collapsed": true
   },
   "outputs": [],
   "source": []
  },
  {
   "cell_type": "code",
   "execution_count": null,
   "metadata": {
    "collapsed": true
   },
   "outputs": [],
   "source": []
  }
 ],
 "metadata": {
  "kernelspec": {
   "display_name": "Ruby 2.1.5",
   "language": "ruby",
   "name": "ruby"
  },
  "language_info": {
   "file_extension": ".rb",
   "mimetype": "application/x-ruby",
   "name": "ruby",
   "version": "2.1.5"
  }
 },
 "nbformat": 4,
 "nbformat_minor": 0
}
