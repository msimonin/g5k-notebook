{
 "cells": [
  {
   "cell_type": "markdown",
   "metadata": {},
   "source": [
    "## Getting resources\n",
    "\n",
    "We use [xp5k](https://github.com/pmorillon/xp5k) to manage the interaction with the Grid resources.\n",
    "\n",
    "We create a new ```XP``` and define a new job.\n",
    "\n",
    "Note that ```resources``` are the same as those given in a ```oarsub``` command line."
   ]
  },
  {
   "cell_type": "code",
   "execution_count": 1,
   "metadata": {
    "collapsed": false
   },
   "outputs": [],
   "source": [
    "require 'xp5k'\n",
    "myxp = XP5K::XP.new\n",
    "myxp.define_job({\n",
    "    :resources => [\"nodes=3, walltime=1:00:00\"],\n",
    "    :site      => 'lyon',\n",
    "    :types     => [\"allow_classic_ssh\"],\n",
    "    :name      => \"iruby notebook\" ,\n",
    "    :roles     => [XP5K::Role.new({:name => 'mynode', :size => 3})],\n",
    "    :command   => \"sleep 86400\"\n",
    "    })"
   ]
  },
  {
   "cell_type": "markdown",
   "metadata": {},
   "source": [
    "## Submission\n",
    "\n",
    "```submit``` is asynchronous, ```wait_for_jobs``` will wait for all the resources to be ready."
   ]
  },
  {
   "cell_type": "code",
   "execution_count": 2,
   "metadata": {
    "collapsed": false,
    "scrolled": false
   },
   "outputs": [
    {
     "data": {
      "text/plain": [
       "#<Proc:0x00000003f87318@/var/lib/gems/2.1.0/bundler/gems/xp5k-c34c75cd7400/lib/xp5k/xp.rb:118>"
      ]
     },
     "execution_count": 2,
     "metadata": {},
     "output_type": "execute_result"
    }
   ],
   "source": [
    "myxp.submit\n",
    "myxp.wait_for_jobs"
   ]
  },
  {
   "cell_type": "markdown",
   "metadata": {},
   "source": [
    "## Run command\n",
    "\n",
    "```xp5k/rake``` include some helpers to run commands on the nodes of your reservation."
   ]
  },
  {
   "cell_type": "code",
   "execution_count": 3,
   "metadata": {
    "collapsed": false,
    "scrolled": false
   },
   "outputs": [
    {
     "name": "stdout",
     "output_type": "stream",
     "text": [
      "Connected to sagittaire-55.lyon.grid5000.fr...\n",
      "Connected to sagittaire-74.lyon.grid5000.fr...\n",
      "Connected to sagittaire-9.lyon.grid5000.fr...\n",
      "[command][sagittaire-55.lyon.grid5000.fr] uptime -s\n",
      "[command][sagittaire-74.lyon.grid5000.fr] uptime -s\n",
      "[command][sagittaire-9.lyon.grid5000.fr] uptime -s\n",
      "[stdout][sagittaire-55.lyon.grid5000.fr] 2016-01-16 03:36:19\n",
      "\n",
      "[stdout][sagittaire-74.lyon.grid5000.fr] 2016-01-16 23:14:26\n",
      "\n",
      "[stdout][sagittaire-9.lyon.grid5000.fr] 2016-01-16 23:39:09\n",
      "\n",
      "---- sagittaire-55.lyon.grid5000.fr ------------------------------------------------------------------------------------------------------------------------------------------------------------------------\n",
      "[\"2016-01-16 03:36:19\"]\n",
      "---- sagittaire-74.lyon.grid5000.fr ------------------------------------------------------------------------------------------------------------------------------------------------------------------------\n",
      "[\"2016-01-16 23:14:26\"]\n",
      "---- sagittaire-9.lyon.grid5000.fr -------------------------------------------------------------------------------------------------------------------------------------------------------------------------\n",
      "[\"2016-01-16 23:39:09\"]\n",
      "Closing ssh connections...\n"
     ]
    },
    {
     "data": {
      "text/plain": [
       "{\"sagittaire-55.lyon.grid5000.fr\"=>[\"2016-01-16 03:36:19\"], \"sagittaire-74.lyon.grid5000.fr\"=>[\"2016-01-16 23:14:26\"], \"sagittaire-9.lyon.grid5000.fr\"=>[\"2016-01-16 23:39:09\"]}"
      ]
     },
     "execution_count": 3,
     "metadata": {},
     "output_type": "execute_result"
    }
   ],
   "source": [
    "require 'xp5k/rake'\n",
    "h = on roles('mynode'), {:user => 'msimonin'} do \n",
    "    cmd = ['uptime -s']\n",
    "end"
   ]
  },
  {
   "cell_type": "markdown",
   "metadata": {},
   "source": [
    "## Draw the bar plot\n",
    "\n",
    "The output of the above command is a map :\n",
    "\n",
    " * each key is a server name \n",
    " * a value is the outputs of the commands run on this server\n",
    " \n",
    "e.g : ``` 'sagittaire-1.lyon.grid5000.fr' => ['out1', ... , 'outn'] ```\n",
    "\n",
    "The following code compute the time since last reboot in minute."
   ]
  },
  {
   "cell_type": "code",
   "execution_count": 4,
   "metadata": {
    "collapsed": false,
    "scrolled": false
   },
   "outputs": [
    {
     "data": {
      "application/javascript": [
       "if(window['d3'] === undefined ||\n",
       "   window['Nyaplot'] === undefined){\n",
       "    var path = {\"d3\":\"https://cdnjs.cloudflare.com/ajax/libs/d3/3.5.5/d3.min\",\"downloadable\":\"http://cdn.rawgit.com/domitry/d3-downloadable/master/d3-downloadable\"};\n",
       "\n",
       "\n",
       "\n",
       "    var shim = {\"d3\":{\"exports\":\"d3\"},\"downloadable\":{\"exports\":\"downloadable\"}};\n",
       "\n",
       "    require.config({paths: path, shim:shim});\n",
       "\n",
       "\n",
       "require(['d3'], function(d3){window['d3']=d3;console.log('finished loading d3');require(['downloadable'], function(downloadable){window['downloadable']=downloadable;console.log('finished loading downloadable');\n",
       "\n",
       "\tvar script = d3.select(\"head\")\n",
       "\t    .append(\"script\")\n",
       "\t    .attr(\"src\", \"http://cdn.rawgit.com/domitry/Nyaplotjs/master/release/nyaplot.js\")\n",
       "\t    .attr(\"async\", true);\n",
       "\n",
       "\tscript[0][0].onload = script[0][0].onreadystatechange = function(){\n",
       "\n",
       "\n",
       "\t    var event = document.createEvent(\"HTMLEvents\");\n",
       "\t    event.initEvent(\"load_nyaplot\",false,false);\n",
       "\t    window.dispatchEvent(event);\n",
       "\t    console.log('Finished loading Nyaplotjs');\n",
       "\n",
       "\t};\n",
       "\n",
       "\n",
       "});});\n",
       "}\n"
      ],
      "text/plain": [
       "\"if(window['d3'] === undefined ||\\n   window['Nyaplot'] === undefined){\\n    var path = {\\\"d3\\\":\\\"https://cdnjs.cloudflare.com/ajax/libs/d3/3.5.5/d3.min\\\",\\\"downloadable\\\":\\\"http://cdn.rawgit.com/domitry/d3-downloadable/master/d3-downloadable\\\"};\\n\\n\\n\\n    var shim = {\\\"d3\\\":{\\\"exports\\\":\\\"d3\\\"},\\\"downloadable\\\":{\\\"exports\\\":\\\"downloadable\\\"}};\\n\\n    require.config({paths: path, shim:shim});\\n\\n\\nrequire(['d3'], function(d3){window['d3']=d3;console.log('finished loading d3');require(['downloadable'], function(downloadable){window['downloadable']=downloadable;console.log('finished loading downloadable');\\n\\n\\tvar script = d3.select(\\\"head\\\")\\n\\t    .append(\\\"script\\\")\\n\\t    .attr(\\\"src\\\", \\\"http://cdn.rawgit.com/domitry/Nyaplotjs/master/release/nyaplot.js\\\")\\n\\t    .attr(\\\"async\\\", true);\\n\\n\\tscript[0][0].onload = script[0][0].onreadystatechange = function(){\\n\\n\\n\\t    var event = document.createEvent(\\\"HTMLEvents\\\");\\n\\t    event.initEvent(\\\"load_nyaplot\\\",false,false);\\n\\t    window.dispatchEvent(event);\\n\\t    console.log('Finished loading Nyaplotjs');\\n\\n\\t};\\n\\n\\n});});\\n}\\n\""
      ]
     },
     "metadata": {},
     "output_type": "display_data"
    },
    {
     "data": {
      "text/html": [
       "<table><tr><th>host</th><th>uptime</th></tr><tr><td>sagittaire-55</td><td>1160.4</td></tr><tr><td>sagittaire-74</td><td>-17.72</td></tr><tr><td>sagittaire-9</td><td>-42.43</td></tr></table>"
      ],
      "text/plain": [
       "#<Nyaplot::DataFrame:0x0000000244d5e8 @name=\"aab35a35-4ce7-4c9e-a448-a375de1a3460\", @rows=[{:host=>\"sagittaire-55\", :uptime=>1160.4}, {:host=>\"sagittaire-74\", :uptime=>-17.72}, {:host=>\"sagittaire-9\", :uptime=>-42.43}]>"
      ]
     },
     "execution_count": 4,
     "metadata": {},
     "output_type": "execute_result"
    }
   ],
   "source": [
    "require 'nyaplot'\n",
    "require 'time'\n",
    "\n",
    "now = Time.now.to_i\n",
    "plot = Nyaplot::Plot.new\n",
    "df = Nyaplot::DataFrame.new({\n",
    "    host: h.keys\n",
    "           .map{|x| x.split('.').first},\n",
    "    uptime: h.values\n",
    "             .map{|x| x.first}\n",
    "    .map{|x| ((now - Time.parse(x).to_f)/60).round(2)}\n",
    "    })\n",
    "    "
   ]
  },
  {
   "cell_type": "code",
   "execution_count": 5,
   "metadata": {
    "collapsed": false
   },
   "outputs": [
    {
     "data": {
      "text/html": [
       "<div id='vis-6f694909-bde9-40cf-bbde-d93a596bf720'></div>\n",
       "<script>\n",
       "(function(){\n",
       "    var render = function(){\n",
       "        var model = {\"panes\":[{\"diagrams\":[{\"type\":\"bar\",\"options\":{\"x\":\"host\",\"y\":\"uptime\"},\"data\":\"aab35a35-4ce7-4c9e-a448-a375de1a3460\"}],\"options\":{\"x_label\":\"\",\"y_label\":\"Uptime (min)\",\"rotate_x_label\":-90,\"width\":700,\"xrange\":[\"sagittaire-55\",\"sagittaire-74\",\"sagittaire-9\"],\"yrange\":[-42.43,1160.4]}}],\"data\":{\"aab35a35-4ce7-4c9e-a448-a375de1a3460\":[{\"host\":\"sagittaire-55\",\"uptime\":1160.4},{\"host\":\"sagittaire-74\",\"uptime\":-17.72},{\"host\":\"sagittaire-9\",\"uptime\":-42.43}]},\"extension\":[]}\n",
       "        var id_name = '#vis-6f694909-bde9-40cf-bbde-d93a596bf720';\n",
       "        Nyaplot.core.parse(model, id_name);\n",
       "\n",
       "        require(['downloadable'], function(downloadable){\n",
       "          var svg = d3.select(id_name).select(\"svg\");\n",
       "\t  if(!svg.empty())\n",
       "\t    svg.call(downloadable().filename('fig'));\n",
       "\t});\n",
       "    };\n",
       "    if(window['Nyaplot']==undefined){\n",
       "        window.addEventListener('load_nyaplot', render, false);\n",
       "\treturn;\n",
       "    } else {\n",
       "       render();\n",
       "    }\n",
       "})();\n",
       "</script>\n"
      ],
      "text/plain": [
       "#<Nyaplot::Plot:0x00000002412ab0 @properties={:diagrams=>[#<Nyaplot::Diagram:0x00000002412880 @properties={:type=>:bar, :options=>{:x=>:host, :y=>:uptime}, :data=>\"aab35a35-4ce7-4c9e-a448-a375de1a3460\"}, @xrange=[\"sagittaire-55\", \"sagittaire-74\", \"sagittaire-9\"], @yrange=[-42.43, 1160.4]>], :options=>{:x_label=>\"\", :y_label=>\"Uptime (min)\", :rotate_x_label=>-90, :width=>700, :xrange=>[\"sagittaire-55\", \"sagittaire-74\", \"sagittaire-9\"], :yrange=>[-42.43, 1160.4]}}>"
      ]
     },
     "execution_count": 5,
     "metadata": {},
     "output_type": "execute_result"
    }
   ],
   "source": [
    "plot=Nyaplot::Plot.new\n",
    "plot.add_with_df(df, :bar, :host, :uptime)\n",
    "plot.configure do\n",
    "    x_label('')\n",
    "    y_label('Uptime (min)')\n",
    "    rotate_x_label(-90)\n",
    "end\n"
   ]
  },
  {
   "cell_type": "code",
   "execution_count": 6,
   "metadata": {
    "collapsed": false
   },
   "outputs": [
    {
     "data": {
      "text/plain": [
       "[\".xp_cache\"]"
      ]
     },
     "execution_count": 6,
     "metadata": {},
     "output_type": "execute_result"
    }
   ],
   "source": [
    "myxp.clean"
   ]
  },
  {
   "cell_type": "code",
   "execution_count": null,
   "metadata": {
    "collapsed": true
   },
   "outputs": [],
   "source": []
  },
  {
   "cell_type": "code",
   "execution_count": null,
   "metadata": {
    "collapsed": true
   },
   "outputs": [],
   "source": []
  }
 ],
 "metadata": {
  "kernelspec": {
   "display_name": "Ruby 2.1.5",
   "language": "ruby",
   "name": "ruby"
  },
  "language_info": {
   "file_extension": ".rb",
   "mimetype": "application/x-ruby",
   "name": "ruby",
   "version": "2.1.5"
  }
 },
 "nbformat": 4,
 "nbformat_minor": 0
}
