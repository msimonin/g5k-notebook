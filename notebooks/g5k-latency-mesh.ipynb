{
 "cells": [
  {
   "cell_type": "markdown",
   "metadata": {},
   "source": [
    "## SSH key pair generation\n",
    "\n",
    "we create a SSH key pair that will be used to connect to the deployed node."
   ]
  },
  {
   "cell_type": "code",
   "execution_count": null,
   "metadata": {
    "collapsed": false
   },
   "outputs": [],
   "source": [
    "%x(ssh-keygen -b 2048 -t rsa -f /tmp/sshkey -q -N \"\")"
   ]
  },
  {
   "cell_type": "markdown",
   "metadata": {},
   "source": [
    "## Job and deployment definition"
   ]
  },
  {
   "cell_type": "code",
   "execution_count": null,
   "metadata": {
    "collapsed": false
   },
   "outputs": [],
   "source": [
    "require 'xp5k'\n",
    "myxp = XP5K::XP.new\n",
    "myxp.define_job({\n",
    "  :resources => [\"{cluster='hercule'}/nodes=4,{cluster='sagittaire'}/nodes=4, walltime=1:00:00\"],\n",
    "    :site      => 'lyon',\n",
    "    :types     => [\"deploy\"],\n",
    "    :name      => \"iruby notebook\" ,\n",
    "    :roles     => [XP5K::Role.new({:name => 'mynode', :size => 8})],\n",
    "    :command   => \"sleep 86400\"\n",
    "    })\n",
    "myxp.define_deployment({\n",
    "    :site           => 'lyon',\n",
    "    :environment    => \"jessie-x64-nfs\",\n",
    "    :roles          => %w{ mynode },\n",
    "    :key            => File.read(\"/tmp/sshkey.pub\")\n",
    "})"
   ]
  },
  {
   "cell_type": "markdown",
   "metadata": {},
   "source": [
    "## Job and deployment submission"
   ]
  },
  {
   "cell_type": "code",
   "execution_count": null,
   "metadata": {
    "collapsed": false
   },
   "outputs": [],
   "source": [
    "myxp.submit\n",
    "myxp.wait_for_jobs\n",
    "myxp.deploy"
   ]
  },
  {
   "cell_type": "markdown",
   "metadata": {},
   "source": [
    "## Install fping on all the nodes"
   ]
  },
  {
   "cell_type": "code",
   "execution_count": null,
   "metadata": {
    "collapsed": false,
    "scrolled": true
   },
   "outputs": [],
   "source": [
    "require 'xp5k/rake'\n",
    "h = on roles('mynode'), {:user => 'root', :ssh => {:keys => ['/tmp/sshkey']}} do \n",
    "  cmd = ['apt-get update -qq && apt-get install -qy fping']\n",
    "end"
   ]
  },
  {
   "cell_type": "markdown",
   "metadata": {},
   "source": [
    "## Each node pings all nodes"
   ]
  },
  {
   "cell_type": "code",
   "execution_count": null,
   "metadata": {
    "collapsed": false
   },
   "outputs": [],
   "source": [
    "servers = roles('mynode')\n",
    "h = on roles('mynode'), {:user => 'root', :ssh => {:keys => ['/tmp/sshkey']}} do \n",
    "  cmd = \"cat > /tmp/hosts << EOF\n",
    "#{servers.join(\"\\n\")}\n",
    "EOF\"\n",
    "end"
   ]
  },
  {
   "cell_type": "code",
   "execution_count": null,
   "metadata": {
    "collapsed": false,
    "scrolled": true
   },
   "outputs": [],
   "source": [
    "n = 100\n",
    "h = on roles('mynode'), {:user => 'root', :ssh => {:keys => ['/tmp/sshkey']}} do \n",
    "  cmd = \"fping -C #{n} -q -s -e -f /tmp/hosts\"\n",
    "end"
   ]
  },
  {
   "cell_type": "code",
   "execution_count": null,
   "metadata": {
    "collapsed": false
   },
   "outputs": [],
   "source": [
    "hh = []\n",
    "h.each do |k,v|\n",
    "    hh.concat(h[k]\n",
    "      .split(\"\\n\")[0..servers.size - 1]\n",
    "        .map{|x| x.split(\" \")}\n",
    "        .map{|a| [k, a[0], a[2..-1].map{|l| l.to_f/n}.sum]})\n",
    "end\n",
    "hh.size"
   ]
  },
  {
   "cell_type": "code",
   "execution_count": null,
   "metadata": {
    "collapsed": false
   },
   "outputs": [],
   "source": [
    "node_to_key = h.keys.sort.each_with_index.inject([]){ |h,i| h<<i}.to_h\n",
    "key_to_node = node_to_key.map{|k,v| [v,k]}.to_h"
   ]
  },
  {
   "cell_type": "code",
   "execution_count": null,
   "metadata": {
    "collapsed": false
   },
   "outputs": [],
   "source": [
    "x=hh.map{|x| node_to_key[x[0]]}\n",
    "y=hh.map{|x| node_to_key[x[1]]}\n",
    "fill=hh.map{|x|x[2]}"
   ]
  },
  {
   "cell_type": "markdown",
   "metadata": {},
   "source": [
    "# Draw latency (ms)"
   ]
  },
  {
   "cell_type": "code",
   "execution_count": null,
   "metadata": {
    "collapsed": false,
    "scrolled": false
   },
   "outputs": [],
   "source": [
    "require 'nyaplot'\n",
    "plot5 = Nyaplot::Plot.new\n",
    "hm = plot5.add(:heatmap, x, y, fill)\n",
    "hm.stroke_color(\"#fff\")\n",
    "hm.stroke_width(\"0\")\n",
    "hm.width(1)\n",
    "hm.height(1)\n",
    "plot5.legend(true)\n",
    "plot5.x_label(\"hosts\")\n",
    "plot5.y_label(\"hosts\")\n",
    "plot5.show\n",
    "\n"
   ]
  },
  {
   "cell_type": "code",
   "execution_count": null,
   "metadata": {
    "collapsed": false
   },
   "outputs": [],
   "source": [
    "myxp.clean"
   ]
  },
  {
   "cell_type": "code",
   "execution_count": null,
   "metadata": {
    "collapsed": true
   },
   "outputs": [],
   "source": []
  }
 ],
 "metadata": {
  "kernelspec": {
   "display_name": "Ruby 2.1.5",
   "language": "ruby",
   "name": "ruby"
  },
  "language_info": {
   "file_extension": ".rb",
   "mimetype": "application/x-ruby",
   "name": "ruby",
   "version": "2.1.5"
  }
 },
 "nbformat": 4,
 "nbformat_minor": 0
}
